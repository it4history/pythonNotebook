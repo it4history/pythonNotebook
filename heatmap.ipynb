{
 "cells": [
  {
   "cell_type": "code",
   "execution_count": 2,
   "metadata": {
    "collapsed": true
   },
   "outputs": [],
   "source": [
    "# Чисто технический блок, импортируем на страницу необходимые (и не очень) инструменты\n",
    "%matplotlib inline\n",
    "import numpy as np\n",
    "import unicodecsv as csv\n",
    "import collections\n",
    "import seaborn as sns\n",
    "import matplotlib.pyplot as plt"
   ]
  },
  {
   "cell_type": "code",
   "execution_count": null,
   "metadata": {
    "collapsed": false
   },
   "outputs": [],
   "source": [
    "lists = []\n",
    "for i in xrange(3,11):\n",
    "    lists.append(find_to_dict(i))\n",
    "print lists"
   ]
  },
  {
   "cell_type": "code",
   "execution_count": null,
   "metadata": {
    "collapsed": false
   },
   "outputs": [],
   "source": [
    "# Записываем в файл паттерны и его вхождения\n",
    "for i in lists:\n",
    "    for ii in i:\n",
    "        string = ii + ','\n",
    "        for iii in i[ii]:\n",
    "            string += str(iii) + ','\n",
    "        f = open('list_insides.csv', 'ab')\n",
    "        f.write(string)\n",
    "        f.write('\\n')\n",
    "        f.close"
   ]
  },
  {
   "cell_type": "code",
   "execution_count": null,
   "metadata": {
    "collapsed": false
   },
   "outputs": [],
   "source": [
    "# Формируем список всех типов катастроф\n",
    "# В нем нет большой необходимости для дальнейших построений\n",
    "with open('base.csv', 'r') as csvfile:\n",
    "    csv_base = csv.reader(csvfile)\n",
    "    list_type = []\n",
    "    for i in csv_base:\n",
    "        if i[1] not in list_type:\n",
    "            list_type.append(i[1])\n",
    "\n",
    "# Выводим все типы катастроф\n",
    "# Просто список всех катастроф для справки\n",
    "print 'Количество типов: %s' % len(list_type)\n",
    "for i in list_type:\n",
    "    print i"
   ]
  },
  {
   "cell_type": "code",
   "execution_count": null,
   "metadata": {
    "collapsed": false
   },
   "outputs": [],
   "source": [
    "# Основа всего! Смотрим на необработаный список списков формата: год-катастрофа\n",
    "with open('base.csv', 'r') as csvfile:\n",
    "    csv_base = csv.reader(csvfile)\n",
    "    csv_base_list = []\n",
    "    for row in csv_base:\n",
    "        print row\n",
    "        csv_base_list.append(row)"
   ]
  },
  {
   "cell_type": "code",
   "execution_count": null,
   "metadata": {
    "collapsed": false
   },
   "outputs": [],
   "source": [
    "print len(csv_base_list)\n",
    "csv_base_list"
   ]
  },
  {
   "cell_type": "code",
   "execution_count": null,
   "metadata": {
    "collapsed": false
   },
   "outputs": [],
   "source": [
    "# Формируем сортированый по годам словарь катастроф\n",
    "with open('base.csv', 'r') as csvfile:\n",
    "    csv_base = csv.reader(csvfile)\n",
    "    \n",
    "    nord_dict = {}\n",
    "    for row in csv_base:\n",
    "        key = row[0].zfill(4)\n",
    "        if key not in nord_dict:\n",
    "            nord_dict[key] = []\n",
    "        if row[1] not in nord_dict[key]:\n",
    "            nord_dict[key].append(row[1])\n",
    "    ord_dict = collections.OrderedDict(sorted(nord_dict.items()))"
   ]
  },
  {
   "cell_type": "code",
   "execution_count": null,
   "metadata": {
    "collapsed": false
   },
   "outputs": [],
   "source": [
    "# Смотрим на сортированый словарь\n",
    "for i in ord_dict:\n",
    "    string = '%s: ' % i\n",
    "    for ii in ord_dict[i]:\n",
    "        string += ii + ''\n",
    "    print to_lat(string)"
   ]
  },
  {
   "cell_type": "code",
   "execution_count": null,
   "metadata": {
    "collapsed": false
   },
   "outputs": [],
   "source": [
    "# Список всех катастроф по порядку\n",
    "# Сливаем предыдущий сортированый словарь в один список\n",
    "list_kat = []\n",
    "for i in ord_dict:\n",
    "    for ii in ord_dict[i]:\n",
    "        list_kat.append(ii)\n",
    "print 'Количество зарегистрированых катастроф: %s' % len(list_kat)"
   ]
  },
  {
   "cell_type": "code",
   "execution_count": null,
   "metadata": {
    "collapsed": false
   },
   "outputs": [],
   "source": [
    "# Формируем строку всех катастроф из списка всех катастроф\n",
    "# Сливаем предыдущий список в одну строку\n",
    "string_kat = ''.join(list_kat)\n",
    "print string_kat"
   ]
  },
  {
   "cell_type": "code",
   "execution_count": null,
   "metadata": {
    "collapsed": false
   },
   "outputs": [],
   "source": [
    "# Заменяем в строке всех катастроф кириллические буквы на латиницу\n",
    "# Иначе усложнится алгоритм поиска\n",
    "def to_lat(string_kat):\n",
    "    string_kat_lat = string_kat.replace('а', 'aa')\n",
    "    string_kat_lat = string_kat_lat.replace('б', 'bb')\n",
    "    string_kat_lat = string_kat_lat.replace('в', 'vv')\n",
    "    string_kat_lat = string_kat_lat.replace('г', 'gg')\n",
    "    string_kat_lat = string_kat_lat.replace('д', 'dd')\n",
    "    string_kat_lat = string_kat_lat.replace('е', 'ee')\n",
    "    string_kat_lat = string_kat_lat.replace('ё', 'ee')\n",
    "    string_kat_lat = string_kat_lat.replace('ж', 'jj')\n",
    "    string_kat_lat = string_kat_lat.replace('з', 'zz')\n",
    "    string_kat_lat = string_kat_lat.replace('и', 'ii')\n",
    "    string_kat_lat = string_kat_lat.replace('к', 'kk')\n",
    "    string_kat_lat = string_kat_lat.replace('л', 'll')\n",
    "    string_kat_lat = string_kat_lat.replace('м', 'mm')\n",
    "    string_kat_lat = string_kat_lat.replace('н', 'nn')\n",
    "    string_kat_lat = string_kat_lat.replace('о', 'oo')\n",
    "    string_kat_lat = string_kat_lat.replace('п', 'pp')\n",
    "    string_kat_lat = string_kat_lat.replace('р', 'rr')\n",
    "    string_kat_lat = string_kat_lat.replace('с', 'ss')\n",
    "    string_kat_lat = string_kat_lat.replace('т', 'tt')\n",
    "    string_kat_lat = string_kat_lat.replace('у', 'uu')\n",
    "    string_kat_lat = string_kat_lat.replace('ф', 'ff')\n",
    "    string_kat_lat = string_kat_lat.replace('х', 'hh')\n",
    "    string_kat_lat = string_kat_lat.replace('ц', 'cc')\n",
    "    string_kat_lat = string_kat_lat.replace('ч', 'ch')\n",
    "    string_kat_lat = string_kat_lat.replace('ш', 'sh')\n",
    "    string_kat_lat = string_kat_lat.replace('щ', 'sj')\n",
    "    string_kat_lat = string_kat_lat.replace('ь', 'mz')\n",
    "    string_kat_lat = string_kat_lat.replace('ы', 'yi')\n",
    "    string_kat_lat = string_kat_lat.replace('ъ', 'tz')\n",
    "    string_kat_lat = string_kat_lat.replace('э', 'ye')\n",
    "    string_kat_lat = string_kat_lat.replace('ю', 'yu')\n",
    "    string_kat_lat = string_kat_lat.replace('я', 'ya')\n",
    "    string_kat_lat = string_kat_lat.replace('Р', 'br') # Кириллическая Р\n",
    "    string_kat_lat = string_kat_lat.replace('P', 'rb') # Латинская P\n",
    "    return string_kat_lat"
   ]
  },
  {
   "cell_type": "code",
   "execution_count": null,
   "metadata": {
    "collapsed": false
   },
   "outputs": [],
   "source": [
    "# Заменяем в строке всех катастроф кириллические буквы на латиницу\n",
    "# Иначе усложнится алгоритм поиска\n",
    "def to_kir(string_kat):\n",
    "    string_kat_lat = string_kat.replace('$aa', '$а')\n",
    "    string_kat_lat = string_kat_lat.replace('$bb', '$б')\n",
    "    string_kat_lat = string_kat_lat.replace('$vv', '$в')\n",
    "    string_kat_lat = string_kat_lat.replace('$gg', '$г')\n",
    "    string_kat_lat = string_kat_lat.replace('$dd', '$д')\n",
    "    string_kat_lat = string_kat_lat.replace('$ee', '$е')\n",
    "    string_kat_lat = string_kat_lat.replace('$ee', '$ё')\n",
    "    string_kat_lat = string_kat_lat.replace('$jj', '$ж')\n",
    "    string_kat_lat = string_kat_lat.replace('$zz', '$з')\n",
    "    string_kat_lat = string_kat_lat.replace('$ii', '$и')\n",
    "    string_kat_lat = string_kat_lat.replace('$kk', '$к')\n",
    "    string_kat_lat = string_kat_lat.replace('$ll', '$л')\n",
    "    string_kat_lat = string_kat_lat.replace('$mm', '$м')\n",
    "    string_kat_lat = string_kat_lat.replace('$nn', '$н')\n",
    "    string_kat_lat = string_kat_lat.replace('$oo', '$о')\n",
    "    string_kat_lat = string_kat_lat.replace('$pp', '$п')\n",
    "    string_kat_lat = string_kat_lat.replace('$rr', '$р')\n",
    "    string_kat_lat = string_kat_lat.replace('$ss', '$с')\n",
    "    string_kat_lat = string_kat_lat.replace('$tt', '$т')\n",
    "    string_kat_lat = string_kat_lat.replace('$uu', '$у')\n",
    "    string_kat_lat = string_kat_lat.replace('$ff', '$ф')\n",
    "    string_kat_lat = string_kat_lat.replace('$hh', '$х')\n",
    "    string_kat_lat = string_kat_lat.replace('$cc', '$ц')\n",
    "    string_kat_lat = string_kat_lat.replace('$ch', '$ч')\n",
    "    string_kat_lat = string_kat_lat.replace('$sh', '$ш')\n",
    "    string_kat_lat = string_kat_lat.replace('$sj', '$щ')\n",
    "    string_kat_lat = string_kat_lat.replace('$mz', '$ь')\n",
    "    string_kat_lat = string_kat_lat.replace('$yi', '$ы')\n",
    "    string_kat_lat = string_kat_lat.replace('$tz', '$ъ')\n",
    "    string_kat_lat = string_kat_lat.replace('$ye', '$э')\n",
    "    string_kat_lat = string_kat_lat.replace('$yu', '$ю')\n",
    "    string_kat_lat = string_kat_lat.replace('$ya', '$я')\n",
    "    string_kat_lat = string_kat_lat.replace('$br', '$Р') # Кириллическая Р\n",
    "    string_kat_lat = string_kat_lat.replace('$rb', '$P') # Латинская P\n",
    "    return string_kat_lat"
   ]
  },
  {
   "cell_type": "code",
   "execution_count": null,
   "metadata": {
    "collapsed": false
   },
   "outputs": [],
   "source": [
    "def get_year(index):\n",
    "    num_kat = index / 5\n",
    "    count_kat = 0\n",
    "    y = 0\n",
    "    for i in ord_dict:\n",
    "        if count_kat < num_kat: \n",
    "            count_kat += len(ord_dict[i])\n",
    "        else:\n",
    "            y = i\n",
    "            break\n",
    "    return y"
   ]
  },
  {
   "cell_type": "code",
   "execution_count": null,
   "metadata": {
    "collapsed": false
   },
   "outputs": [],
   "source": [
    "# Функция поиска, принимает количество типов катастроф идущих подряд\n",
    "# Выдает паттерн, индекс паттерна и количество его вхождений\n",
    "def find(step):\n",
    "    m = 0\n",
    "    l = []\n",
    "    string_lat = to_lat(string_kat)\n",
    "    for i in xrange(0, len(string_lat), 5):\n",
    "        count = string_lat.count(string_lat[i:i+(step*5)])\n",
    "        if string_lat[i:i+(step*5)].count('$') < step:\n",
    "            continue\n",
    "        if count > 1:\n",
    "            m = count\n",
    "            k = [string_lat[i:i+(step*5)], get_year(i-6), i-6, get_year(i-6+(step*5)), i-6+(step*5), count]\n",
    "            l.append(k)\n",
    "            print k\n",
    "    return l"
   ]
  },
  {
   "cell_type": "code",
   "execution_count": null,
   "metadata": {
    "collapsed": false
   },
   "outputs": [],
   "source": [
    "def find_to_dict(step):\n",
    "    m = 0\n",
    "    l = []\n",
    "    dic = {}\n",
    "    string_lat = to_lat(string_kat)\n",
    "    \n",
    "    for i in xrange(0, len(string_lat), 5):\n",
    "        count = string_lat.count(string_lat[i:i+(step*5)])\n",
    "    \n",
    "        if string_lat[i:i+(step*5)].count('$') < step:\n",
    "            continue\n",
    "        \n",
    "        if count > 1:\n",
    "            m = count\n",
    "            try:\n",
    "                dic[to_kir(string_lat[i:i+(step*5)])].append(get_year(i-6))\n",
    "                dic[to_kir(string_lat[i:i+(step*5)])].append(get_year(i-6+(step*5)))\n",
    "            except KeyError:\n",
    "                dic[to_kir(string_lat[i:i+(step*5)])] = []\n",
    "                dic[to_kir(string_lat[i:i+(step*5)])].append(get_year(i-6))\n",
    "                dic[to_kir(string_lat[i:i+(step*5)])].append(get_year(i-6+(step*5)))                \n",
    "            k = [string_lat[i:i+(step*5)], get_year(i-6), i-6, get_year(i-6+(step*5)), i-6+(step*5), count]\n",
    "            l.append(k)\n",
    "#            print k\n",
    "\n",
    "    return dic"
   ]
  },
  {
   "cell_type": "code",
   "execution_count": null,
   "metadata": {
    "collapsed": true
   },
   "outputs": [],
   "source": [
    "def list_kat(years):\n",
    "    kat_list = []\n",
    "    for year in years:\n",
    "        for kat in ord_dict[year]:\n",
    "            if kat not in kat_list:\n",
    "                kat_list.append(kat)\n",
    "    return kat_list"
   ]
  },
  {
   "cell_type": "code",
   "execution_count": null,
   "metadata": {
    "collapsed": false
   },
   "outputs": [],
   "source": [
    "list_1346_1349 = list_kat(['1346','1347','1348','1349'])\n",
    "print len(list_1346_1349)\n",
    "list_1802_1805 = list_kat(['1802','1803','1804','1805'])\n",
    "print len(list_1802_1805)"
   ]
  },
  {
   "cell_type": "code",
   "execution_count": null,
   "metadata": {
    "collapsed": false
   },
   "outputs": [],
   "source": [
    "len(set(list_1346_1349) & set(list_1802_1805))"
   ]
  },
  {
   "cell_type": "code",
   "execution_count": 15,
   "metadata": {
    "collapsed": false
   },
   "outputs": [
    {
     "data": {
      "image/png": "[encoded data removed]",
      "text/plain": [
       "<matplotlib.figure.Figure at 0x7f30335e9510>"
      ]
     },
     "metadata": {},
     "output_type": "display_data"
    }
   ],
   "source": [
    "plt.plot([1, 2, 3, 4], [1, 4, 9, 16])\n",
    "plt.ylabel('some numbers')\n",
    "plt.xlabel('my data', fontsize=14, color='red')\n",
    "plt.title('Easy as 1, 2, 3') # subplot 211 title\n",
    "plt.axis([0, 6, 0, 20])\n",
    "plt.show()"
   ]
  },
  {
   "cell_type": "code",
   "execution_count": 10,
   "metadata": {
    "collapsed": false
   },
   "outputs": [
    {
     "data": {
      "image/png": "[encoded data removed]",
      "text/plain": [
       "<matplotlib.figure.Figure at 0x7f3033889f90>"
      ]
     },
     "metadata": {},
     "output_type": "display_data"
    }
   ],
   "source": [
    "plt.plot([1, 2, 3, 4], [1, 4, 9, 16])\n",
    "plt.axis([0, 1933, 0, 20])\n",
    "plt.show()"
   ]
  },
  {
   "cell_type": "code",
   "execution_count": 11,
   "metadata": {
    "collapsed": false
   },
   "outputs": [
    {
     "data": {
      "text/plain": [
       "<matplotlib.text.Text at 0x7f303387e310>"
      ]
     },
     "execution_count": 11,
     "metadata": {},
     "output_type": "execute_result"
    },
    {
     "data": {
      "image/png": "[encoded data removed]",
      "text/plain": [
       "<matplotlib.figure.Figure at 0x7f3033725690>"
      ]
     },
     "metadata": {},
     "output_type": "display_data"
    },
    {
     "data": {
      "image/png": "[encoded data removed]",
      "text/plain": [
       "<matplotlib.figure.Figure at 0x7f30337bad50>"
      ]
     },
     "metadata": {},
     "output_type": "display_data"
    }
   ],
   "source": [
    "plt.figure(1)                # the first figure\n",
    "plt.subplot(211)             # the first subplot in the first figure\n",
    "plt.plot([1, 2, 3])\n",
    "plt.subplot(212)             # the second subplot in the first figure\n",
    "plt.plot([4, 5, 6])\n",
    "\n",
    "\n",
    "plt.figure(2)                # a second figure\n",
    "plt.plot([4, 5, 6])          # creates a subplot(111) by default\n",
    "\n",
    "plt.figure(1)                # figure 1 current; subplot(212) still current\n",
    "plt.subplot(211)             # make subplot(211) in figure1 current\n",
    "plt.title('Easy as 1, 2, 3') # subplot 211 title"
   ]
  },
  {
   "cell_type": "code",
   "execution_count": 17,
   "metadata": {
    "collapsed": false
   },
   "outputs": [
    {
     "data": {
      "image/png": "[encoded data removed]",
      "text/plain": [
       "<matplotlib.figure.Figure at 0x7f30337f2b50>"
      ]
     },
     "metadata": {},
     "output_type": "display_data"
    }
   ],
   "source": [
    "plt.subplot(2,2,1)\n",
    "plt.subplot(2,2,3)\n",
    "plt.subplot(2,2,4)\n",
    "\n",
    "plt.show()"
   ]
  },
  {
   "cell_type": "code",
   "execution_count": 19,
   "metadata": {
    "collapsed": false
   },
   "outputs": [
    {
     "data": {
      "image/png": "[encoded data removed]",
      "text/plain": [
       "<matplotlib.figure.Figure at 0x7f30335e9f10>"
      ]
     },
     "metadata": {},
     "output_type": "display_data"
    }
   ],
   "source": [
    "axes = plt.gca()\n",
    "axes.set_xlim(0,4)\n",
    "axes.set_ylim(0,3)\n",
    "axes.set_xticklabels([])\n",
    "axes.set_yticklabels([])\n",
    "\n",
    "plt.show()"
   ]
  },
  {
   "cell_type": "code",
   "execution_count": null,
   "metadata": {
    "collapsed": true
   },
   "outputs": [],
   "source": []
  }
 ],
 "metadata": {
  "kernelspec": {
   "display_name": "Python 2",
   "language": "python",
   "name": "python2"
  },
  "language_info": {
   "codemirror_mode": {
    "name": "ipython",
    "version": 2
   },
   "file_extension": ".py",
   "mimetype": "text/x-python",
   "name": "python",
   "nbconvert_exporter": "python",
   "pygments_lexer": "ipython2",
   "version": "2.7.6"
  }
 },
 "nbformat": 4,
 "nbformat_minor": 0
}
